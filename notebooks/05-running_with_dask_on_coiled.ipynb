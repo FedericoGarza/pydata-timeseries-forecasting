{
 "cells": [
  {
   "cell_type": "markdown",
   "metadata": {},
   "source": [
    "# Running on a Dask Cluster (with Coiled)\n",
    "\n",
    "Previously, we expanded each row to the full timeseries to use with the `forecast` function. In practice, we want to be minimizing network data transfer when it comes to distributed computing."
   ]
  },
  {
   "cell_type": "markdown",
   "metadata": {},
   "source": [
    "## Creating a Software Environment\n",
    "\n",
    "```python\n",
    "import coiled\n",
    "\n",
    "coiled.create_software_environment(\n",
    "    name=\"pydata\",\n",
    "    pip=[\"fugue[dask]\", \"statsforecast\", \"mlflow\"],\n",
    ")\n",
    "```"
   ]
  },
  {
   "cell_type": "markdown",
   "metadata": {},
   "source": [
    "## Spinning up a Cluster"
   ]
  },
  {
   "cell_type": "code",
   "execution_count": 7,
   "metadata": {},
   "outputs": [],
   "source": [
    "from dask.distributed import Client\n",
    "from coiled import Cluster\n",
    "\n",
    "# cluster = Cluster(name=\"pydata\", software=\"pydata\", n_workers=2)\n",
    "# client = Client(cluster)\n",
    "client = Client()\n"
   ]
  },
  {
   "cell_type": "markdown",
   "metadata": {},
   "source": [
    "## Setup"
   ]
  },
  {
   "cell_type": "code",
   "execution_count": 1,
   "metadata": {},
   "outputs": [],
   "source": [
    "import pandas as pd\n",
    "import os\n",
    "\n",
    "download_path = os.path.abspath(os.path.join(\".\",\"..\",\"data\",\"m5-forecasting-accuracy.zip\"))\n",
    "unzipped_path = os.path.abspath(os.path.join(\".\",\"..\",\"data\",\"m5-forecasting-accuracy-unzipped\"))\n",
    "\n",
    "# Read in the data\n",
    "INPUT_DIR = unzipped_path\n",
    "WORKING_DIR = os.path.join(unzipped_path, \"..\", \"working\")\n",
    "calendar = pd.read_csv(f'{INPUT_DIR}/calendar.csv')\n",
    "training_data = pd.read_csv(f'{INPUT_DIR}/sales_train_evaluation.csv')\n",
    "sell_prices = pd.read_csv(f'{INPUT_DIR}/sell_prices.csv')"
   ]
  },
  {
   "cell_type": "markdown",
   "metadata": {},
   "source": [
    "## Minimizing Data Footprint"
   ]
  },
  {
   "cell_type": "code",
   "execution_count": 2,
   "metadata": {},
   "outputs": [
    {
     "name": "stdout",
     "output_type": "stream",
     "text": [
      "[{'store_id': 'store1', 'item_id': 'item1', 'price_start': datetime.date(2020, 1, 2), 'prices': [2.2, 3.3, 4.4]}]\n"
     ]
    }
   ],
   "source": [
    "from typing import List, Dict, Any, Iterable\n",
    "from datetime import date\n",
    "\n",
    "def prices_to_series(df:pd.DataFrame) -> List[Dict[str,Any]]:\n",
    "    # Assert each date has a price entry\n",
    "    assert df.shape[0] == (df.date.iloc[-1]-df.date.iloc[0]).days + 1\n",
    "    return [dict(store_id=df.iloc[0][\"store_id\"],\n",
    "                 item_id=df.iloc[0]['item_id'],\n",
    "                 price_start=df.iloc[0]['date'], \n",
    "                 prices=df[\"sell_price\"].tolist())]\n",
    "\n",
    "\n",
    "df = pd.DataFrame([[\"store1\",\"item1\",date(2020,1,2),2.2], \n",
    "                   [\"store1\",\"item1\",date(2020,1,3),3.3],\n",
    "                   [\"store1\",\"item1\", date(2020,1,4),4.4]], \n",
    "                   columns=[\"store_id\", \"item_id\", \"date\",\"sell_price\"])\n",
    "print(prices_to_series(df))"
   ]
  },
  {
   "cell_type": "code",
   "execution_count": 3,
   "metadata": {},
   "outputs": [],
   "source": [
    "joined = sell_prices.merge(calendar[[\"date\",\"wm_yr_wk\"]], how=\"inner\", on=\"wm_yr_wk\")\n",
    "joined['date'] = pd.to_datetime(joined['date'])\n",
    "joined.head()"
   ]
  },
  {
   "cell_type": "code",
   "execution_count": 4,
   "metadata": {},
   "outputs": [
    {
     "ename": "KeyboardInterrupt",
     "evalue": "",
     "output_type": "error",
     "traceback": [
      "\u001b[0;31m---------------------------------------------------------------------------\u001b[0m",
      "\u001b[0;31mKeyboardInterrupt\u001b[0m                         Traceback (most recent call last)",
      "\u001b[1;32m/Users/kevinkho/Work/pydata-timeseries-forecasting/notebooks/05-running_with_dask_on_coiled.ipynb Cell 10\u001b[0m in \u001b[0;36m<cell line: 3>\u001b[0;34m()\u001b[0m\n\u001b[1;32m      <a href='vscode-notebook-cell:/Users/kevinkho/Work/pydata-timeseries-forecasting/notebooks/05-running_with_dask_on_coiled.ipynb#ch0000007?line=0'>1</a>\u001b[0m \u001b[39mfrom\u001b[39;00m \u001b[39mfugue\u001b[39;00m \u001b[39mimport\u001b[39;00m transform\n\u001b[0;32m----> <a href='vscode-notebook-cell:/Users/kevinkho/Work/pydata-timeseries-forecasting/notebooks/05-running_with_dask_on_coiled.ipynb#ch0000007?line=2'>3</a>\u001b[0m out \u001b[39m=\u001b[39m transform(joined, \n\u001b[1;32m      <a href='vscode-notebook-cell:/Users/kevinkho/Work/pydata-timeseries-forecasting/notebooks/05-running_with_dask_on_coiled.ipynb#ch0000007?line=3'>4</a>\u001b[0m                 prices_to_series, \n\u001b[1;32m      <a href='vscode-notebook-cell:/Users/kevinkho/Work/pydata-timeseries-forecasting/notebooks/05-running_with_dask_on_coiled.ipynb#ch0000007?line=4'>5</a>\u001b[0m                 schema\u001b[39m=\u001b[39;49m\u001b[39m\"\u001b[39;49m\u001b[39mstore_id:str,item_id:str,price_start:date,prices:[double]\u001b[39;49m\u001b[39m\"\u001b[39;49m,\n\u001b[1;32m      <a href='vscode-notebook-cell:/Users/kevinkho/Work/pydata-timeseries-forecasting/notebooks/05-running_with_dask_on_coiled.ipynb#ch0000007?line=5'>6</a>\u001b[0m                 partition\u001b[39m=\u001b[39;49m{\u001b[39m\"\u001b[39;49m\u001b[39mby\u001b[39;49m\u001b[39m\"\u001b[39;49m: [\u001b[39m\"\u001b[39;49m\u001b[39mstore_id\u001b[39;49m\u001b[39m\"\u001b[39;49m, \u001b[39m\"\u001b[39;49m\u001b[39mitem_id\u001b[39;49m\u001b[39m\"\u001b[39;49m], \u001b[39m\"\u001b[39;49m\u001b[39mpresort\u001b[39;49m\u001b[39m\"\u001b[39;49m: \u001b[39m\"\u001b[39;49m\u001b[39mdate asc\u001b[39;49m\u001b[39m\"\u001b[39;49m})\n\u001b[1;32m      <a href='vscode-notebook-cell:/Users/kevinkho/Work/pydata-timeseries-forecasting/notebooks/05-running_with_dask_on_coiled.ipynb#ch0000007?line=6'>7</a>\u001b[0m out\u001b[39m.\u001b[39mhead()\n",
      "File \u001b[0;32m/opt/anaconda3/envs/fugue/lib/python3.8/site-packages/fugue/interfaceless.py:167\u001b[0m, in \u001b[0;36mtransform\u001b[0;34m(df, using, schema, params, partition, callback, ignore_errors, engine, engine_conf, force_output_fugue_dataframe, persist, as_local, save_path, checkpoint)\u001b[0m\n\u001b[1;32m    165\u001b[0m     \u001b[39melse\u001b[39;00m:\n\u001b[1;32m    166\u001b[0m         tdf\u001b[39m.\u001b[39msave(save_path, fmt\u001b[39m=\u001b[39m\u001b[39m\"\u001b[39m\u001b[39mparquet\u001b[39m\u001b[39m\"\u001b[39m)\n\u001b[0;32m--> 167\u001b[0m dag\u001b[39m.\u001b[39;49mrun(engine, conf\u001b[39m=\u001b[39;49mengine_conf)\n\u001b[1;32m    168\u001b[0m \u001b[39mif\u001b[39;00m checkpoint:\n\u001b[1;32m    169\u001b[0m     result \u001b[39m=\u001b[39m dag\u001b[39m.\u001b[39myields[\u001b[39m\"\u001b[39m\u001b[39mresult\u001b[39m\u001b[39m\"\u001b[39m]\u001b[39m.\u001b[39mresult  \u001b[39m# type:ignore\u001b[39;00m\n",
      "File \u001b[0;32m/opt/anaconda3/envs/fugue/lib/python3.8/site-packages/fugue/workflow/workflow.py:1503\u001b[0m, in \u001b[0;36mFugueWorkflow.run\u001b[0;34m(self, *args, **kwargs)\u001b[0m\n\u001b[1;32m   1499\u001b[0m     \u001b[39mself\u001b[39m\u001b[39m.\u001b[39m_workflow_ctx\u001b[39m.\u001b[39mexecution_engine\u001b[39m.\u001b[39mcompile_conf\u001b[39m.\u001b[39mupdate(\n\u001b[1;32m   1500\u001b[0m         \u001b[39mself\u001b[39m\u001b[39m.\u001b[39m_compile_conf\n\u001b[1;32m   1501\u001b[0m     )\n\u001b[1;32m   1502\u001b[0m \u001b[39mtry\u001b[39;00m:\n\u001b[0;32m-> 1503\u001b[0m     \u001b[39mself\u001b[39;49m\u001b[39m.\u001b[39;49m_workflow_ctx\u001b[39m.\u001b[39;49mrun(\u001b[39mself\u001b[39;49m\u001b[39m.\u001b[39;49m_spec, {})\n\u001b[1;32m   1504\u001b[0m \u001b[39mexcept\u001b[39;00m \u001b[39mException\u001b[39;00m \u001b[39mas\u001b[39;00m ex:\n\u001b[1;32m   1505\u001b[0m     \u001b[39mif\u001b[39;00m \u001b[39mnot\u001b[39;00m \u001b[39mself\u001b[39m\u001b[39m.\u001b[39m_workflow_ctx\u001b[39m.\u001b[39mexecution_engine\u001b[39m.\u001b[39mconf\u001b[39m.\u001b[39mget_or_throw(\n\u001b[1;32m   1506\u001b[0m         FUGUE_CONF_WORKFLOW_EXCEPTION_OPTIMIZE, \u001b[39mbool\u001b[39m\n\u001b[1;32m   1507\u001b[0m     ) \u001b[39mor\u001b[39;00m sys\u001b[39m.\u001b[39mversion_info \u001b[39m<\u001b[39m (\u001b[39m3\u001b[39m, \u001b[39m7\u001b[39m):\n",
      "File \u001b[0;32m/opt/anaconda3/envs/fugue/lib/python3.8/site-packages/fugue/workflow/_workflow_context.py:54\u001b[0m, in \u001b[0;36mFugueWorkflowContext.run\u001b[0;34m(self, spec, conf)\u001b[0m\n\u001b[1;32m     52\u001b[0m     \u001b[39mself\u001b[39m\u001b[39m.\u001b[39m_checkpoint_path\u001b[39m.\u001b[39minit_temp_path(\u001b[39mself\u001b[39m\u001b[39m.\u001b[39m_execution_id)\n\u001b[1;32m     53\u001b[0m     \u001b[39mself\u001b[39m\u001b[39m.\u001b[39mexecution_engine\u001b[39m.\u001b[39mstart()\n\u001b[0;32m---> 54\u001b[0m     \u001b[39msuper\u001b[39;49m()\u001b[39m.\u001b[39;49mrun(spec, conf)\n\u001b[1;32m     55\u001b[0m \u001b[39mfinally\u001b[39;00m:\n\u001b[1;32m     56\u001b[0m     \u001b[39mself\u001b[39m\u001b[39m.\u001b[39m_checkpoint_path\u001b[39m.\u001b[39mremove_temp_path()\n",
      "File \u001b[0;32m/opt/anaconda3/envs/fugue/lib/python3.8/site-packages/adagio/instances.py:270\u001b[0m, in \u001b[0;36mWorkflowContext.run\u001b[0;34m(self, spec, conf)\u001b[0m\n\u001b[1;32m    264\u001b[0m \u001b[39mdef\u001b[39;00m \u001b[39mrun\u001b[39m(\u001b[39mself\u001b[39m, spec: WorkflowSpec, conf: Dict[\u001b[39mstr\u001b[39m, Any]) \u001b[39m-\u001b[39m\u001b[39m>\u001b[39m \u001b[39mNone\u001b[39;00m:\n\u001b[1;32m    265\u001b[0m     \u001b[39m\"\"\"Instantiate and run a workflow spec\u001b[39;00m\n\u001b[1;32m    266\u001b[0m \n\u001b[1;32m    267\u001b[0m \u001b[39m    :param spec: workflow spec\u001b[39;00m\n\u001b[1;32m    268\u001b[0m \u001b[39m    :param conf: configs to initialize the workflow\u001b[39;00m\n\u001b[1;32m    269\u001b[0m \u001b[39m    \"\"\"\u001b[39;00m\n\u001b[0;32m--> 270\u001b[0m     \u001b[39mself\u001b[39;49m\u001b[39m.\u001b[39;49m_engine\u001b[39m.\u001b[39;49mrun(spec, conf)\n",
      "File \u001b[0;32m/opt/anaconda3/envs/fugue/lib/python3.8/site-packages/adagio/instances.py:129\u001b[0m, in \u001b[0;36mWorkflowExecutionEngine.run\u001b[0;34m(self, spec, configs)\u001b[0m\n\u001b[1;32m    127\u001b[0m wf \u001b[39m=\u001b[39m _make_top_level_workflow(spec, \u001b[39mself\u001b[39m\u001b[39m.\u001b[39mcontext, configs)\n\u001b[1;32m    128\u001b[0m tasks_to_run \u001b[39m=\u001b[39m \u001b[39mself\u001b[39m\u001b[39m.\u001b[39mpreprocess(wf)\n\u001b[0;32m--> 129\u001b[0m \u001b[39mself\u001b[39;49m\u001b[39m.\u001b[39;49mrun_tasks(tasks_to_run)\n",
      "File \u001b[0;32m/opt/anaconda3/envs/fugue/lib/python3.8/site-packages/adagio/instances.py:155\u001b[0m, in \u001b[0;36mParallelExecutionEngine.run_tasks\u001b[0;34m(self, tasks)\u001b[0m\n\u001b[1;32m    153\u001b[0m \u001b[39mif\u001b[39;00m \u001b[39mself\u001b[39m\u001b[39m.\u001b[39m_concurrency \u001b[39m<\u001b[39m\u001b[39m=\u001b[39m \u001b[39m1\u001b[39m:\n\u001b[1;32m    154\u001b[0m     \u001b[39mfor\u001b[39;00m t \u001b[39min\u001b[39;00m tasks:\n\u001b[0;32m--> 155\u001b[0m         \u001b[39mself\u001b[39;49m\u001b[39m.\u001b[39;49mrun_single(t)\n\u001b[1;32m    156\u001b[0m     \u001b[39mreturn\u001b[39;00m\n\u001b[1;32m    157\u001b[0m \u001b[39mwith\u001b[39;00m cf\u001b[39m.\u001b[39mThreadPoolExecutor(max_workers\u001b[39m=\u001b[39m\u001b[39mself\u001b[39m\u001b[39m.\u001b[39m_concurrency) \u001b[39mas\u001b[39;00m e:\n",
      "File \u001b[0;32m/opt/anaconda3/envs/fugue/lib/python3.8/site-packages/adagio/instances.py:171\u001b[0m, in \u001b[0;36mParallelExecutionEngine.run_single\u001b[0;34m(self, task)\u001b[0m\n\u001b[1;32m    169\u001b[0m \u001b[39mdef\u001b[39;00m \u001b[39mrun_single\u001b[39m(\u001b[39mself\u001b[39m, task: \u001b[39m\"\u001b[39m\u001b[39m_Task\u001b[39m\u001b[39m\"\u001b[39m) \u001b[39m-\u001b[39m\u001b[39m>\u001b[39m \u001b[39m\"\u001b[39m\u001b[39m_Task\u001b[39m\u001b[39m\"\u001b[39m:\n\u001b[1;32m    170\u001b[0m     task\u001b[39m.\u001b[39mupdate_by_cache()\n\u001b[0;32m--> 171\u001b[0m     task\u001b[39m.\u001b[39;49mrun()\n\u001b[1;32m    172\u001b[0m     task\u001b[39m.\u001b[39mreraise()\n\u001b[1;32m    173\u001b[0m     \u001b[39mreturn\u001b[39;00m task\n",
      "File \u001b[0;32m/opt/anaconda3/envs/fugue/lib/python3.8/site-packages/adagio/instances.py:683\u001b[0m, in \u001b[0;36m_Task.run\u001b[0;34m(self)\u001b[0m\n\u001b[1;32m    681\u001b[0m \u001b[39mself\u001b[39m\u001b[39m.\u001b[39m_transit(_State\u001b[39m.\u001b[39mRUNNING)\n\u001b[1;32m    682\u001b[0m \u001b[39mtry\u001b[39;00m:\n\u001b[0;32m--> 683\u001b[0m     \u001b[39mself\u001b[39;49m\u001b[39m.\u001b[39;49mspec\u001b[39m.\u001b[39;49mfunc(TaskContext(\u001b[39mself\u001b[39;49m))\n\u001b[1;32m    684\u001b[0m \u001b[39mexcept\u001b[39;00m \u001b[39mException\u001b[39;00m \u001b[39mas\u001b[39;00m e:\n\u001b[1;32m    685\u001b[0m     \u001b[39mself\u001b[39m\u001b[39m.\u001b[39m_fail_remaining(e)\n",
      "File \u001b[0;32m/opt/anaconda3/envs/fugue/lib/python3.8/site-packages/fugue/workflow/_tasks.py:350\u001b[0m, in \u001b[0;36mProcess.execute\u001b[0;34m(self, ctx)\u001b[0m\n\u001b[1;32m    347\u001b[0m     \u001b[39mself\u001b[39m\u001b[39m.\u001b[39m_processor\u001b[39m.\u001b[39mvalidate_on_runtime(inputs)\n\u001b[1;32m    348\u001b[0m     \u001b[39mreturn\u001b[39;00m \u001b[39mself\u001b[39m\u001b[39m.\u001b[39m_processor\u001b[39m.\u001b[39mprocess(inputs)\n\u001b[0;32m--> 350\u001b[0m df \u001b[39m=\u001b[39m \u001b[39mself\u001b[39;49m\u001b[39m.\u001b[39;49m_execute_with_modified_traceback(exe)\n\u001b[1;32m    351\u001b[0m df \u001b[39m=\u001b[39m \u001b[39mself\u001b[39m\u001b[39m.\u001b[39mset_result(ctx, df)\n\u001b[1;32m    352\u001b[0m ctx\u001b[39m.\u001b[39moutputs[\u001b[39m\"\u001b[39m\u001b[39m_0\u001b[39m\u001b[39m\"\u001b[39m] \u001b[39m=\u001b[39m df\n",
      "File \u001b[0;32m/opt/anaconda3/envs/fugue/lib/python3.8/site-packages/fugue/workflow/_tasks.py:189\u001b[0m, in \u001b[0;36mFugueTask._execute_with_modified_traceback\u001b[0;34m(self, func)\u001b[0m\n\u001b[1;32m    187\u001b[0m \u001b[39mdef\u001b[39;00m \u001b[39m_execute_with_modified_traceback\u001b[39m(\u001b[39mself\u001b[39m, func: Callable) \u001b[39m-\u001b[39m\u001b[39m>\u001b[39m Any:\n\u001b[1;32m    188\u001b[0m     \u001b[39mtry\u001b[39;00m:\n\u001b[0;32m--> 189\u001b[0m         \u001b[39mreturn\u001b[39;00m func()\n\u001b[1;32m    190\u001b[0m     \u001b[39mexcept\u001b[39;00m \u001b[39mException\u001b[39;00m \u001b[39mas\u001b[39;00m ex:\n\u001b[1;32m    191\u001b[0m         \u001b[39mif\u001b[39;00m \u001b[39mself\u001b[39m\u001b[39m.\u001b[39m_traceback \u001b[39mis\u001b[39;00m \u001b[39mNone\u001b[39;00m:  \u001b[39m# pragma: no cover\u001b[39;00m\n",
      "File \u001b[0;32m/opt/anaconda3/envs/fugue/lib/python3.8/site-packages/fugue/workflow/_tasks.py:348\u001b[0m, in \u001b[0;36mProcess.execute.<locals>.exe\u001b[0;34m()\u001b[0m\n\u001b[1;32m    346\u001b[0m \u001b[39mdef\u001b[39;00m \u001b[39mexe\u001b[39m() \u001b[39m-\u001b[39m\u001b[39m>\u001b[39m Any:\n\u001b[1;32m    347\u001b[0m     \u001b[39mself\u001b[39m\u001b[39m.\u001b[39m_processor\u001b[39m.\u001b[39mvalidate_on_runtime(inputs)\n\u001b[0;32m--> 348\u001b[0m     \u001b[39mreturn\u001b[39;00m \u001b[39mself\u001b[39;49m\u001b[39m.\u001b[39;49m_processor\u001b[39m.\u001b[39;49mprocess(inputs)\n",
      "File \u001b[0;32m/opt/anaconda3/envs/fugue/lib/python3.8/site-packages/fugue/extensions/_builtins/processors.py:42\u001b[0m, in \u001b[0;36mRunTransformer.process\u001b[0;34m(self, dfs)\u001b[0m\n\u001b[1;32m     40\u001b[0m tf\u001b[39m.\u001b[39mvalidate_on_runtime(df)\n\u001b[1;32m     41\u001b[0m \u001b[39mif\u001b[39;00m \u001b[39misinstance\u001b[39m(tf, Transformer):\n\u001b[0;32m---> 42\u001b[0m     \u001b[39mreturn\u001b[39;00m \u001b[39mself\u001b[39;49m\u001b[39m.\u001b[39;49mtransform(df, tf)\n\u001b[1;32m     43\u001b[0m \u001b[39melse\u001b[39;00m:\n\u001b[1;32m     44\u001b[0m     \u001b[39mreturn\u001b[39;00m \u001b[39mself\u001b[39m\u001b[39m.\u001b[39mcotransform(df, tf)\n",
      "File \u001b[0;32m/opt/anaconda3/envs/fugue/lib/python3.8/site-packages/fugue/extensions/_builtins/processors.py:50\u001b[0m, in \u001b[0;36mRunTransformer.transform\u001b[0;34m(self, df, tf)\u001b[0m\n\u001b[1;32m     48\u001b[0m tf\u001b[39m.\u001b[39m_output_schema \u001b[39m=\u001b[39m Schema(tf\u001b[39m.\u001b[39mget_output_schema(df))  \u001b[39m# type: ignore\u001b[39;00m\n\u001b[1;32m     49\u001b[0m tr \u001b[39m=\u001b[39m _TransformerRunner(df, tf, \u001b[39mself\u001b[39m\u001b[39m.\u001b[39m_ignore_errors)  \u001b[39m# type: ignore\u001b[39;00m\n\u001b[0;32m---> 50\u001b[0m \u001b[39mreturn\u001b[39;00m \u001b[39mself\u001b[39;49m\u001b[39m.\u001b[39;49mexecution_engine\u001b[39m.\u001b[39;49mmap(\n\u001b[1;32m     51\u001b[0m     df\u001b[39m=\u001b[39;49mdf,\n\u001b[1;32m     52\u001b[0m     map_func\u001b[39m=\u001b[39;49mtr\u001b[39m.\u001b[39;49mrun,\n\u001b[1;32m     53\u001b[0m     output_schema\u001b[39m=\u001b[39;49mtf\u001b[39m.\u001b[39;49moutput_schema,  \u001b[39m# type: ignore\u001b[39;49;00m\n\u001b[1;32m     54\u001b[0m     partition_spec\u001b[39m=\u001b[39;49mtf\u001b[39m.\u001b[39;49mpartition_spec,\n\u001b[1;32m     55\u001b[0m     on_init\u001b[39m=\u001b[39;49mtr\u001b[39m.\u001b[39;49mon_init,\n\u001b[1;32m     56\u001b[0m )\n",
      "File \u001b[0;32m/opt/anaconda3/envs/fugue/lib/python3.8/site-packages/fugue/execution/native_execution_engine.py:179\u001b[0m, in \u001b[0;36mNativeExecutionEngine.map\u001b[0;34m(self, df, map_func, output_schema, partition_spec, metadata, on_init)\u001b[0m\n\u001b[1;32m    176\u001b[0m     output_df \u001b[39m=\u001b[39m map_func(cursor, input_df)\n\u001b[1;32m    177\u001b[0m     \u001b[39mreturn\u001b[39;00m output_df\u001b[39m.\u001b[39mas_pandas()\n\u001b[0;32m--> 179\u001b[0m result \u001b[39m=\u001b[39m \u001b[39mself\u001b[39;49m\u001b[39m.\u001b[39;49mpl_utils\u001b[39m.\u001b[39;49msafe_groupby_apply(\n\u001b[1;32m    180\u001b[0m     df\u001b[39m.\u001b[39;49mas_pandas(), partition_spec\u001b[39m.\u001b[39;49mpartition_by, _map\n\u001b[1;32m    181\u001b[0m )\n\u001b[1;32m    182\u001b[0m \u001b[39mreturn\u001b[39;00m PandasDataFrame(result, output_schema, metadata)\n",
      "File \u001b[0;32m/opt/anaconda3/envs/fugue/lib/python3.8/site-packages/triad/utils/pandas_like.py:213\u001b[0m, in \u001b[0;36mPandasLikeUtils.safe_groupby_apply\u001b[0;34m(self, df, cols, func, key_col_name, **kwargs)\u001b[0m\n\u001b[1;32m    211\u001b[0m params: Dict[\u001b[39mstr\u001b[39m, Any] \u001b[39m=\u001b[39m {}\n\u001b[1;32m    212\u001b[0m \u001b[39mfor\u001b[39;00m c \u001b[39min\u001b[39;00m cols:\n\u001b[0;32m--> 213\u001b[0m     params[key_col_name \u001b[39m+\u001b[39m \u001b[39m\"\u001b[39m\u001b[39mnull_\u001b[39m\u001b[39m\"\u001b[39m \u001b[39m+\u001b[39m c] \u001b[39m=\u001b[39m df[c]\u001b[39m.\u001b[39;49misnull()\n\u001b[1;32m    214\u001b[0m     params[key_col_name \u001b[39m+\u001b[39m \u001b[39m\"\u001b[39m\u001b[39mfill_\u001b[39m\u001b[39m\"\u001b[39m \u001b[39m+\u001b[39m c] \u001b[39m=\u001b[39m \u001b[39mself\u001b[39m\u001b[39m.\u001b[39mfillna_default(df[c])\n\u001b[1;32m    215\u001b[0m keys \u001b[39m=\u001b[39m \u001b[39mlist\u001b[39m(params\u001b[39m.\u001b[39mkeys())\n",
      "File \u001b[0;32m/opt/anaconda3/envs/fugue/lib/python3.8/site-packages/pandas/core/series.py:5286\u001b[0m, in \u001b[0;36mSeries.isnull\u001b[0;34m(self)\u001b[0m\n\u001b[1;32m   5281\u001b[0m \u001b[39m@doc\u001b[39m(NDFrame\u001b[39m.\u001b[39misna, klass\u001b[39m=\u001b[39m_shared_doc_kwargs[\u001b[39m\"\u001b[39m\u001b[39mklass\u001b[39m\u001b[39m\"\u001b[39m])  \u001b[39m# type: ignore[has-type]\u001b[39;00m\n\u001b[1;32m   5282\u001b[0m \u001b[39mdef\u001b[39;00m \u001b[39misnull\u001b[39m(\u001b[39mself\u001b[39m) \u001b[39m-\u001b[39m\u001b[39m>\u001b[39m Series:\n\u001b[1;32m   5283\u001b[0m     \u001b[39m\"\"\"\u001b[39;00m\n\u001b[1;32m   5284\u001b[0m \u001b[39m    Series.isnull is an alias for Series.isna.\u001b[39;00m\n\u001b[1;32m   5285\u001b[0m \u001b[39m    \"\"\"\u001b[39;00m\n\u001b[0;32m-> 5286\u001b[0m     \u001b[39mreturn\u001b[39;00m \u001b[39msuper\u001b[39;49m()\u001b[39m.\u001b[39;49misnull()\n",
      "File \u001b[0;32m/opt/anaconda3/envs/fugue/lib/python3.8/site-packages/pandas/core/generic.py:7295\u001b[0m, in \u001b[0;36mNDFrame.isnull\u001b[0;34m(self)\u001b[0m\n\u001b[1;32m   7293\u001b[0m \u001b[39m@doc\u001b[39m(isna, klass\u001b[39m=\u001b[39m_shared_doc_kwargs[\u001b[39m\"\u001b[39m\u001b[39mklass\u001b[39m\u001b[39m\"\u001b[39m])\n\u001b[1;32m   7294\u001b[0m \u001b[39mdef\u001b[39;00m \u001b[39misnull\u001b[39m(\u001b[39mself\u001b[39m: NDFrameT) \u001b[39m-\u001b[39m\u001b[39m>\u001b[39m NDFrameT:\n\u001b[0;32m-> 7295\u001b[0m     \u001b[39mreturn\u001b[39;00m isna(\u001b[39mself\u001b[39;49m)\u001b[39m.\u001b[39m__finalize__(\u001b[39mself\u001b[39m, method\u001b[39m=\u001b[39m\u001b[39m\"\u001b[39m\u001b[39misnull\u001b[39m\u001b[39m\"\u001b[39m)\n",
      "File \u001b[0;32m/opt/anaconda3/envs/fugue/lib/python3.8/site-packages/pandas/core/dtypes/missing.py:144\u001b[0m, in \u001b[0;36misna\u001b[0;34m(obj)\u001b[0m\n\u001b[1;32m     67\u001b[0m \u001b[39mdef\u001b[39;00m \u001b[39misna\u001b[39m(obj):\n\u001b[1;32m     68\u001b[0m     \u001b[39m\"\"\"\u001b[39;00m\n\u001b[1;32m     69\u001b[0m \u001b[39m    Detect missing values for an array-like object.\u001b[39;00m\n\u001b[1;32m     70\u001b[0m \n\u001b[0;32m   (...)\u001b[0m\n\u001b[1;32m    142\u001b[0m \u001b[39m    Name: 1, dtype: bool\u001b[39;00m\n\u001b[1;32m    143\u001b[0m \u001b[39m    \"\"\"\u001b[39;00m\n\u001b[0;32m--> 144\u001b[0m     \u001b[39mreturn\u001b[39;00m _isna(obj)\n",
      "File \u001b[0;32m/opt/anaconda3/envs/fugue/lib/python3.8/site-packages/pandas/core/dtypes/missing.py:182\u001b[0m, in \u001b[0;36m_isna\u001b[0;34m(obj, inf_as_na)\u001b[0m\n\u001b[1;32m    179\u001b[0m     \u001b[39mreturn\u001b[39;00m _isna_array(obj\u001b[39m.\u001b[39m_values, inf_as_na\u001b[39m=\u001b[39minf_as_na)\n\u001b[1;32m    181\u001b[0m \u001b[39melif\u001b[39;00m \u001b[39misinstance\u001b[39m(obj, ABCSeries):\n\u001b[0;32m--> 182\u001b[0m     result \u001b[39m=\u001b[39m _isna_array(obj\u001b[39m.\u001b[39;49m_values, inf_as_na\u001b[39m=\u001b[39;49minf_as_na)\n\u001b[1;32m    183\u001b[0m     \u001b[39m# box\u001b[39;00m\n\u001b[1;32m    184\u001b[0m     result \u001b[39m=\u001b[39m obj\u001b[39m.\u001b[39m_constructor(result, index\u001b[39m=\u001b[39mobj\u001b[39m.\u001b[39mindex, name\u001b[39m=\u001b[39mobj\u001b[39m.\u001b[39mname, copy\u001b[39m=\u001b[39m\u001b[39mFalse\u001b[39;00m)\n",
      "File \u001b[0;32m/opt/anaconda3/envs/fugue/lib/python3.8/site-packages/pandas/core/dtypes/missing.py:255\u001b[0m, in \u001b[0;36m_isna_array\u001b[0;34m(values, inf_as_na)\u001b[0m\n\u001b[1;32m    253\u001b[0m         result \u001b[39m=\u001b[39m values\u001b[39m.\u001b[39misna()  \u001b[39m# type: ignore[assignment]\u001b[39;00m\n\u001b[1;32m    254\u001b[0m \u001b[39melif\u001b[39;00m is_string_or_object_np_dtype(values\u001b[39m.\u001b[39mdtype):\n\u001b[0;32m--> 255\u001b[0m     result \u001b[39m=\u001b[39m _isna_string_dtype(values, inf_as_na\u001b[39m=\u001b[39;49minf_as_na)\n\u001b[1;32m    256\u001b[0m \u001b[39melif\u001b[39;00m needs_i8_conversion(dtype):\n\u001b[1;32m    257\u001b[0m     \u001b[39m# this is the NaT pattern\u001b[39;00m\n\u001b[1;32m    258\u001b[0m     result \u001b[39m=\u001b[39m values\u001b[39m.\u001b[39mview(\u001b[39m\"\u001b[39m\u001b[39mi8\u001b[39m\u001b[39m\"\u001b[39m) \u001b[39m==\u001b[39m iNaT\n",
      "File \u001b[0;32m/opt/anaconda3/envs/fugue/lib/python3.8/site-packages/pandas/core/dtypes/missing.py:277\u001b[0m, in \u001b[0;36m_isna_string_dtype\u001b[0;34m(values, inf_as_na)\u001b[0m\n\u001b[1;32m    274\u001b[0m \u001b[39melse\u001b[39;00m:\n\u001b[1;32m    276\u001b[0m     \u001b[39mif\u001b[39;00m values\u001b[39m.\u001b[39mndim \u001b[39m==\u001b[39m \u001b[39m1\u001b[39m:\n\u001b[0;32m--> 277\u001b[0m         result \u001b[39m=\u001b[39m libmissing\u001b[39m.\u001b[39;49misnaobj(values, inf_as_na\u001b[39m=\u001b[39;49minf_as_na)\n\u001b[1;32m    278\u001b[0m     \u001b[39melif\u001b[39;00m values\u001b[39m.\u001b[39mndim \u001b[39m==\u001b[39m \u001b[39m2\u001b[39m:\n\u001b[1;32m    279\u001b[0m         result \u001b[39m=\u001b[39m libmissing\u001b[39m.\u001b[39misnaobj2d(values, inf_as_na\u001b[39m=\u001b[39minf_as_na)\n",
      "\u001b[0;31mKeyboardInterrupt\u001b[0m: "
     ]
    }
   ],
   "source": [
    "from fugue import transform\n",
    "\n",
    "out = transform(joined, \n",
    "                prices_to_series, \n",
    "                schema=\"store_id:str,item_id:str,price_start:date,prices:[double]\",\n",
    "                partition={\"by\": [\"store_id\", \"item_id\"], \"presort\": \"date asc\"})\n",
    "out.head()"
   ]
  },
  {
   "cell_type": "code",
   "execution_count": null,
   "metadata": {},
   "outputs": [],
   "source": []
  }
 ],
 "metadata": {
  "kernelspec": {
   "display_name": "Python 3.8.13 ('fugue')",
   "language": "python",
   "name": "python3"
  },
  "language_info": {
   "codemirror_mode": {
    "name": "ipython",
    "version": 3
   },
   "file_extension": ".py",
   "mimetype": "text/x-python",
   "name": "python",
   "nbconvert_exporter": "python",
   "pygments_lexer": "ipython3",
   "version": "3.8.13"
  },
  "orig_nbformat": 4,
  "vscode": {
   "interpreter": {
    "hash": "9fcd6e71927f6b3e5f4fa4280b4e8e6a66aa8d4365bb61cf7ef4017620fc09b9"
   }
  }
 },
 "nbformat": 4,
 "nbformat_minor": 2
}
