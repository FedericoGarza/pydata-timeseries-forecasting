{
 "cells": [
  {
   "cell_type": "code",
   "execution_count": 1,
   "metadata": {},
   "outputs": [
    {
     "name": "stdout",
     "output_type": "stream",
     "text": [
      "Collecting datasetsforecast\n",
      "  Using cached datasetsforecast-0.0.7-py3-none-any.whl (22 kB)\n",
      "Collecting hierarchicalforecast\n",
      "  Using cached hierarchicalforecast-0.2.0-py3-none-any.whl (33 kB)\n",
      "Requirement already satisfied: tqdm in /opt/anaconda3/envs/fugue/lib/python3.8/site-packages (from datasetsforecast) (4.64.0)\n",
      "Requirement already satisfied: pandas in /opt/anaconda3/envs/fugue/lib/python3.8/site-packages (from datasetsforecast) (1.4.3)\n",
      "Requirement already satisfied: requests in /opt/anaconda3/envs/fugue/lib/python3.8/site-packages (from datasetsforecast) (2.28.1)\n",
      "Collecting xlrd>=1.0.0\n",
      "  Downloading xlrd-2.0.1-py2.py3-none-any.whl (96 kB)\n",
      "\u001b[2K     \u001b[90m━━━━━━━━━━━━━━━━━━━━━━━━━━━━━━━━━━━━━━━━\u001b[0m \u001b[32m96.5/96.5 kB\u001b[0m \u001b[31m3.3 MB/s\u001b[0m eta \u001b[36m0:00:00\u001b[0m\n",
      "\u001b[?25hRequirement already satisfied: numba in /opt/anaconda3/envs/fugue/lib/python3.8/site-packages (from datasetsforecast) (0.56.0)\n",
      "Requirement already satisfied: aiohttp in /opt/anaconda3/envs/fugue/lib/python3.8/site-packages (from datasetsforecast) (3.8.1)\n",
      "Requirement already satisfied: numpy in /opt/anaconda3/envs/fugue/lib/python3.8/site-packages (from datasetsforecast) (1.22.4)\n",
      "Collecting quadprog\n",
      "  Downloading quadprog-0.1.11-cp38-cp38-macosx_10_9_x86_64.whl (92 kB)\n",
      "\u001b[2K     \u001b[90m━━━━━━━━━━━━━━━━━━━━━━━━━━━━━━━━━━━━━━━━\u001b[0m \u001b[32m92.4/92.4 kB\u001b[0m \u001b[31m3.1 MB/s\u001b[0m eta \u001b[36m0:00:00\u001b[0m\n",
      "\u001b[?25hCollecting mycolorpy\n",
      "  Using cached mycolorpy-1.5.1.tar.gz (2.5 kB)\n",
      "  Preparing metadata (setup.py) ... \u001b[?25ldone\n",
      "\u001b[?25hRequirement already satisfied: scikit-learn in /opt/anaconda3/envs/fugue/lib/python3.8/site-packages (from hierarchicalforecast) (1.1.2)\n",
      "Requirement already satisfied: aiosignal>=1.1.2 in /opt/anaconda3/envs/fugue/lib/python3.8/site-packages (from aiohttp->datasetsforecast) (1.2.0)\n",
      "Requirement already satisfied: multidict<7.0,>=4.5 in /opt/anaconda3/envs/fugue/lib/python3.8/site-packages (from aiohttp->datasetsforecast) (6.0.2)\n",
      "Requirement already satisfied: yarl<2.0,>=1.0 in /opt/anaconda3/envs/fugue/lib/python3.8/site-packages (from aiohttp->datasetsforecast) (1.8.1)\n",
      "Requirement already satisfied: frozenlist>=1.1.1 in /opt/anaconda3/envs/fugue/lib/python3.8/site-packages (from aiohttp->datasetsforecast) (1.3.1)\n",
      "Requirement already satisfied: async-timeout<5.0,>=4.0.0a3 in /opt/anaconda3/envs/fugue/lib/python3.8/site-packages (from aiohttp->datasetsforecast) (4.0.2)\n",
      "Requirement already satisfied: charset-normalizer<3.0,>=2.0 in /opt/anaconda3/envs/fugue/lib/python3.8/site-packages (from aiohttp->datasetsforecast) (2.1.0)\n",
      "Requirement already satisfied: attrs>=17.3.0 in /opt/anaconda3/envs/fugue/lib/python3.8/site-packages (from aiohttp->datasetsforecast) (21.4.0)\n",
      "Requirement already satisfied: matplotlib in /opt/anaconda3/envs/fugue/lib/python3.8/site-packages (from mycolorpy->hierarchicalforecast) (3.5.3)\n",
      "Requirement already satisfied: llvmlite<0.40,>=0.39.0dev0 in /opt/anaconda3/envs/fugue/lib/python3.8/site-packages (from numba->datasetsforecast) (0.39.0)\n",
      "Requirement already satisfied: setuptools in /opt/anaconda3/envs/fugue/lib/python3.8/site-packages (from numba->datasetsforecast) (61.2.0)\n",
      "Requirement already satisfied: importlib-metadata in /opt/anaconda3/envs/fugue/lib/python3.8/site-packages (from numba->datasetsforecast) (4.13.0)\n",
      "Requirement already satisfied: python-dateutil>=2.8.1 in /opt/anaconda3/envs/fugue/lib/python3.8/site-packages (from pandas->datasetsforecast) (2.8.2)\n",
      "Requirement already satisfied: pytz>=2020.1 in /opt/anaconda3/envs/fugue/lib/python3.8/site-packages (from pandas->datasetsforecast) (2022.1)\n",
      "Requirement already satisfied: certifi>=2017.4.17 in /opt/anaconda3/envs/fugue/lib/python3.8/site-packages (from requests->datasetsforecast) (2022.6.15)\n",
      "Requirement already satisfied: urllib3<1.27,>=1.21.1 in /opt/anaconda3/envs/fugue/lib/python3.8/site-packages (from requests->datasetsforecast) (1.26.11)\n",
      "Requirement already satisfied: idna<4,>=2.5 in /opt/anaconda3/envs/fugue/lib/python3.8/site-packages (from requests->datasetsforecast) (3.3)\n",
      "Requirement already satisfied: scipy>=1.3.2 in /opt/anaconda3/envs/fugue/lib/python3.8/site-packages (from scikit-learn->hierarchicalforecast) (1.8.1)\n",
      "Requirement already satisfied: joblib>=1.0.0 in /opt/anaconda3/envs/fugue/lib/python3.8/site-packages (from scikit-learn->hierarchicalforecast) (1.1.0)\n",
      "Requirement already satisfied: threadpoolctl>=2.0.0 in /opt/anaconda3/envs/fugue/lib/python3.8/site-packages (from scikit-learn->hierarchicalforecast) (3.1.0)\n",
      "Requirement already satisfied: six>=1.5 in /opt/anaconda3/envs/fugue/lib/python3.8/site-packages (from python-dateutil>=2.8.1->pandas->datasetsforecast) (1.16.0)\n",
      "Requirement already satisfied: zipp>=0.5 in /opt/anaconda3/envs/fugue/lib/python3.8/site-packages (from importlib-metadata->numba->datasetsforecast) (3.8.1)\n",
      "Requirement already satisfied: pillow>=6.2.0 in /opt/anaconda3/envs/fugue/lib/python3.8/site-packages (from matplotlib->mycolorpy->hierarchicalforecast) (9.2.0)\n",
      "Requirement already satisfied: cycler>=0.10 in /opt/anaconda3/envs/fugue/lib/python3.8/site-packages (from matplotlib->mycolorpy->hierarchicalforecast) (0.11.0)\n",
      "Requirement already satisfied: kiwisolver>=1.0.1 in /opt/anaconda3/envs/fugue/lib/python3.8/site-packages (from matplotlib->mycolorpy->hierarchicalforecast) (1.4.4)\n",
      "Requirement already satisfied: pyparsing>=2.2.1 in /opt/anaconda3/envs/fugue/lib/python3.8/site-packages (from matplotlib->mycolorpy->hierarchicalforecast) (3.0.9)\n",
      "Requirement already satisfied: fonttools>=4.22.0 in /opt/anaconda3/envs/fugue/lib/python3.8/site-packages (from matplotlib->mycolorpy->hierarchicalforecast) (4.35.0)\n",
      "Requirement already satisfied: packaging>=20.0 in /opt/anaconda3/envs/fugue/lib/python3.8/site-packages (from matplotlib->mycolorpy->hierarchicalforecast) (21.3)\n",
      "Building wheels for collected packages: mycolorpy\n",
      "  Building wheel for mycolorpy (setup.py) ... \u001b[?25ldone\n",
      "\u001b[?25h  Created wheel for mycolorpy: filename=mycolorpy-1.5.1-py3-none-any.whl size=3873 sha256=8bf6e004aa8e1deb8feeff6ad08737c8f7b4af4ad6b4d7470be8de63920ccfef\n",
      "  Stored in directory: /Users/kevinkho/Library/Caches/pip/wheels/de/f6/20/d5f4361bb07416d18914807370aac98a7581f644cf18362df0\n",
      "Successfully built mycolorpy\n",
      "Installing collected packages: xlrd, quadprog, mycolorpy, datasetsforecast, hierarchicalforecast\n",
      "Successfully installed datasetsforecast-0.0.7 hierarchicalforecast-0.2.0 mycolorpy-1.5.1 quadprog-0.1.11 xlrd-2.0.1\n"
     ]
    }
   ],
   "source": [
    "!pip install datasetsforecast hierarchicalforecast"
   ]
  },
  {
   "cell_type": "code",
   "execution_count": 6,
   "metadata": {},
   "outputs": [
    {
     "ename": "ModuleNotFoundError",
     "evalue": "No module named 'numpy'",
     "output_type": "error",
     "traceback": [
      "\u001b[0;31m---------------------------------------------------------------------------\u001b[0m",
      "\u001b[0;31mModuleNotFoundError\u001b[0m                       Traceback (most recent call last)",
      "\u001b[1;32m/Users/kevinkho/Work/pydata-timeseries-forecasting/notebooks/hierarchichal-forecasting.ipynb Cell 1\u001b[0m in \u001b[0;36m<cell line: 1>\u001b[0;34m()\u001b[0m\n\u001b[0;32m----> <a href='vscode-notebook-cell:/Users/kevinkho/Work/pydata-timeseries-forecasting/notebooks/hierarchichal-forecasting.ipynb#ch0000000?line=0'>1</a>\u001b[0m \u001b[39mimport\u001b[39;00m \u001b[39mnumpy\u001b[39;00m \u001b[39mas\u001b[39;00m \u001b[39mnp\u001b[39;00m\n\u001b[1;32m      <a href='vscode-notebook-cell:/Users/kevinkho/Work/pydata-timeseries-forecasting/notebooks/hierarchichal-forecasting.ipynb#ch0000000?line=1'>2</a>\u001b[0m \u001b[39mimport\u001b[39;00m \u001b[39mpandas\u001b[39;00m \u001b[39mas\u001b[39;00m \u001b[39mpd\u001b[39;00m\n\u001b[1;32m      <a href='vscode-notebook-cell:/Users/kevinkho/Work/pydata-timeseries-forecasting/notebooks/hierarchichal-forecasting.ipynb#ch0000000?line=3'>4</a>\u001b[0m \u001b[39m#obtain hierarchical dataset\u001b[39;00m\n",
      "\u001b[0;31mModuleNotFoundError\u001b[0m: No module named 'numpy'"
     ]
    }
   ],
   "source": [
    "import numpy as np\n",
    "import pandas as pd\n",
    "\n",
    "#obtain hierarchical dataset\n",
    "from datasetsforecast.hierarchical import HierarchicalData\n",
    "\n",
    "# Load TourismSmall dataset\n",
    "Y_df, S, tags = HierarchicalData.load('./data', 'TourismSmall')\n",
    "Y_df['ds'] = pd.to_datetime(Y_df['ds'])"
   ]
  },
  {
   "cell_type": "code",
   "execution_count": null,
   "metadata": {},
   "outputs": [],
   "source": [
    "\n",
    "#split train/test sets\n",
    "Y_test_df  = Y_df.groupby('unique_id').tail(12)\n",
    "Y_train_df = Y_df.drop(Y_test_df.index)\n",
    "Y_test_df  = Y_test_df.set_index('unique_id')\n",
    "Y_train_df = Y_train_df.set_index('unique_id')\n",
    "\n",
    "# Compute base auto-ARIMA predictions\n",
    "fcst = StatsForecast(df=Y_train_df, \n",
    "                     models=[AutoARIMA(season_length=12), Naive()], \n",
    "                     freq='M', n_jobs=-1)\n",
    "Y_hat_df = fcst.forecast(h=12)\n",
    "\n",
    "# Reconcile the base predictions\n",
    "reconcilers = [\n",
    "    BottomUp(),\n",
    "    TopDown(method='forecast_proportions'),\n",
    "    MiddleOut(middle_level='Country/Purpose/State',\n",
    "              top_down_method='forecast_proportions')\n",
    "]\n",
    "hrec = HierarchicalReconciliation(reconcilers=reconcilers)\n",
    "Y_rec_df = hrec.reconcile(Y_hat_df=Y_hat_df, Y_df=Y_train_df, \n",
    "                          S=S, tags=tags)"
   ]
  },
  {
   "cell_type": "code",
   "execution_count": null,
   "metadata": {},
   "outputs": [],
   "source": [
    "# compute base forecast no coherent\n",
    "from statsforecast.core import StatsForecast\n",
    "from statsforecast.models import AutoARIMA, Naive\n",
    "\n",
    "#obtain hierarchical reconciliation methods and evaluation\n",
    "from hierarchicalforecast.core import HierarchicalReconciliation\n",
    "from hierarchicalforecast.evaluation import HierarchicalEvaluation\n",
    "from hierarchicalforecast.methods import BottomUp, TopDown, MiddleOut"
   ]
  }
 ],
 "metadata": {
  "kernelspec": {
   "display_name": "Python 3.8.13 ('fugue')",
   "language": "python",
   "name": "python3"
  },
  "language_info": {
   "codemirror_mode": {
    "name": "ipython",
    "version": 3
   },
   "file_extension": ".py",
   "mimetype": "text/x-python",
   "name": "python",
   "nbconvert_exporter": "python",
   "pygments_lexer": "ipython3",
   "version": "3.8.13"
  },
  "orig_nbformat": 4,
  "vscode": {
   "interpreter": {
    "hash": "9fcd6e71927f6b3e5f4fa4280b4e8e6a66aa8d4365bb61cf7ef4017620fc09b9"
   }
  }
 },
 "nbformat": 4,
 "nbformat_minor": 2
}
